{
  "nbformat": 4,
  "nbformat_minor": 0,
  "metadata": {
    "colab": {
      "name": "Acidentes - SP.ipynb",
      "provenance": []
    },
    "kernelspec": {
      "display_name": "Python 3",
      "name": "python3"
    },
    "language_info": {
      "name": "python"
    }
  },
  "cells": [
    {
      "cell_type": "markdown",
      "metadata": {
        "id": "jkbxkpibqLSo"
      },
      "source": [
        "# **Análise de Acidentes Fatais - São Paulo**\n",
        "Neste projeto, iremos realizar uma análise exploratória dos dados referentes aos acidentes fatais nas rodovias no Estado de São Paulo.\n",
        " \n",
        "## Importação dos Dados\n",
        "Todos os dados usados nesta análise foram obtidos a partir do site [Respeito a vida](http://www.respeitoavida.sp.gov.br/relatorios//), que disponibiliza dados referentes aos acidentes de trânsito no Estado de São Paulo.\n",
        " \n",
        "Para esta análise exploratória, será baixado apenas o seguinte arquivo:\n",
        "- acidentes_fatais_rodovias.xlsx\n",
        " \n",
        "Também importaremos as bibliotecas pandas e matplotlib, para possibilitar a manipulação e análise dos dados.\n"
      ]
    },
    {
      "cell_type": "code",
      "metadata": {
        "id": "HiCP87TYSOCs"
      },
      "source": [
        "# Importando as bibliotecas necessárias \n",
        "import pandas as pd\n",
        "import matplotlib.pyplot as plt"
      ],
      "execution_count": null,
      "outputs": []
    },
    {
      "cell_type": "code",
      "metadata": {
        "id": "j7xkUqTNUPYU"
      },
      "source": [
        "# Importando o dataset(planilha de excel)\n",
        "df = pd.read_excel('acidentes_fatais_rodovias.xlsx')"
      ],
      "execution_count": null,
      "outputs": []
    },
    {
      "cell_type": "markdown",
      "metadata": {
        "id": "_Xwd-MXxTGzu"
      },
      "source": [
        "# Análise Exploratória\n",
        "Agora que já realizamos a importação dos dados e das bibliotecas, iremos explorar e examinar os dados contidos no DataFrame.\n",
        "\n",
        "\n",
        "### Verificando Dados\n",
        "E nesse primeiro momento, vamos olhar para nossa base de dados e realizar algumas verificações preliminares, a fim de descobrir com quais dados estamos lidando e seus respectivos tipos, o tamanho do nosso DataFrame e algumas estatísticas iniciais sobre os acidentes.\n"
      ]
    },
    {
      "cell_type": "code",
      "metadata": {
        "colab": {
          "base_uri": "https://localhost:8080/"
        },
        "id": "ulzUpc8vutjg",
        "outputId": "25182819-0432-42a2-ae7a-879934e6d0be"
      },
      "source": [
        "# Verificando o tamanho do dataset\n",
        "print(\"\\nDIMENSÕES DO DATAFRAME:\\n\")\n",
        "print(f\"Linhas  =  {df.shape[0]}\")\n",
        "print(f\"Colunas =  {df.shape[1]}\")"
      ],
      "execution_count": null,
      "outputs": [
        {
          "output_type": "stream",
          "text": [
            "\n",
            "DIMENSÕES DO DATAFRAME:\n",
            "\n",
            "Linhas  =  13991\n",
            "Colunas =  32\n"
          ],
          "name": "stdout"
        }
      ]
    },
    {
      "cell_type": "code",
      "metadata": {
        "colab": {
          "base_uri": "https://localhost:8080/",
          "height": 428
        },
        "id": "GoQiygpBwLGZ",
        "outputId": "029ac5c8-446b-47e2-ac8d-6ac423fe4d9b"
      },
      "source": [
        "# Exibindo as primeiras 5 linhas.\n",
        "df.head()"
      ],
      "execution_count": null,
      "outputs": [
        {
          "output_type": "execute_result",
          "data": {
            "text/html": [
              "<div>\n",
              "<style scoped>\n",
              "    .dataframe tbody tr th:only-of-type {\n",
              "        vertical-align: middle;\n",
              "    }\n",
              "\n",
              "    .dataframe tbody tr th {\n",
              "        vertical-align: top;\n",
              "    }\n",
              "\n",
              "    .dataframe thead th {\n",
              "        text-align: right;\n",
              "    }\n",
              "</style>\n",
              "<table border=\"1\" class=\"dataframe\">\n",
              "  <thead>\n",
              "    <tr style=\"text-align: right;\">\n",
              "      <th></th>\n",
              "      <th>ID</th>\n",
              "      <th>Id Delegacia (RDO)</th>\n",
              "      <th>Número BO (RDO)</th>\n",
              "      <th>Ano BO (RDO)</th>\n",
              "      <th>Data do Acidente</th>\n",
              "      <th>Dia do Acidente</th>\n",
              "      <th>Mês do Acidente</th>\n",
              "      <th>Ano do Acidente</th>\n",
              "      <th>Ano/Mês do Acidente</th>\n",
              "      <th>Dia da semana</th>\n",
              "      <th>Hora do Acidente</th>\n",
              "      <th>Turno</th>\n",
              "      <th>Município</th>\n",
              "      <th>Região Administrativa</th>\n",
              "      <th>Logradouro</th>\n",
              "      <th>Numeral / KM</th>\n",
              "      <th>Jurisdição</th>\n",
              "      <th>Administração</th>\n",
              "      <th>Conservação</th>\n",
              "      <th>Tipo do Local do Acidente</th>\n",
              "      <th>Lat (GEO)</th>\n",
              "      <th>Long (GEO)</th>\n",
              "      <th>Iluminação da via (SIOPM)</th>\n",
              "      <th>Superfície da Via (SIOPM)</th>\n",
              "      <th>Tipo de pista (SIOPM)</th>\n",
              "      <th>Outro Veículo Envolvido</th>\n",
              "      <th>Tipo de via</th>\n",
              "      <th>Condições Climáticas (SIOPM)</th>\n",
              "      <th>Sentido da Via (SIOPM)</th>\n",
              "      <th>Limite da velocidade da via (SIOPM)</th>\n",
              "      <th>Quantidade de vítimas</th>\n",
              "      <th>Tempo entre o Acidente e as Mortes</th>\n",
              "    </tr>\n",
              "  </thead>\n",
              "  <tbody>\n",
              "    <tr>\n",
              "      <th>0</th>\n",
              "      <td>3074422</td>\n",
              "      <td>30111</td>\n",
              "      <td>1968</td>\n",
              "      <td>2021</td>\n",
              "      <td>2021-05-31</td>\n",
              "      <td>31</td>\n",
              "      <td>MAIO</td>\n",
              "      <td>2021</td>\n",
              "      <td>2021.05</td>\n",
              "      <td>SEGUNDA</td>\n",
              "      <td>05:15:00</td>\n",
              "      <td>MADRUGADA</td>\n",
              "      <td>DIADEMA</td>\n",
              "      <td>Metropolitana de São Paulo</td>\n",
              "      <td>SP 160</td>\n",
              "      <td>21,0</td>\n",
              "      <td>ESTADUAL</td>\n",
              "      <td>CONCESSIONÁRIA-ARTESP</td>\n",
              "      <td>ECOVIAS</td>\n",
              "      <td>PUBLICO</td>\n",
              "      <td>-23,715536774223285</td>\n",
              "      <td>-46,60484928376247</td>\n",
              "      <td>NAO DISPONIVEL</td>\n",
              "      <td>NAO DISPONIVEL</td>\n",
              "      <td>NAO DISPONIVEL</td>\n",
              "      <td>NAO DISPONIVEL</td>\n",
              "      <td>Rodovias</td>\n",
              "      <td>NAO DISPONIVEL</td>\n",
              "      <td>NAO DISPONIVEL</td>\n",
              "      <td>NAO DISPONIVEL</td>\n",
              "      <td>1</td>\n",
              "      <td>Até 30 dias</td>\n",
              "    </tr>\n",
              "    <tr>\n",
              "      <th>1</th>\n",
              "      <td>3074424</td>\n",
              "      <td>40010</td>\n",
              "      <td>802</td>\n",
              "      <td>2021</td>\n",
              "      <td>2021-05-31</td>\n",
              "      <td>31</td>\n",
              "      <td>MAIO</td>\n",
              "      <td>2021</td>\n",
              "      <td>2021.05</td>\n",
              "      <td>SEGUNDA</td>\n",
              "      <td>02:20:00</td>\n",
              "      <td>MADRUGADA</td>\n",
              "      <td>SANTOS</td>\n",
              "      <td>Baixada Santista</td>\n",
              "      <td>SP 055</td>\n",
              "      <td>252,5</td>\n",
              "      <td>ESTADUAL</td>\n",
              "      <td>CONCESSIONÁRIA-ARTESP</td>\n",
              "      <td>ECOVIAS</td>\n",
              "      <td>PUBLICO</td>\n",
              "      <td>-23,883785000388976</td>\n",
              "      <td>-46,31636802592616</td>\n",
              "      <td>NOITE (VIA NÃO ILUMINADA)</td>\n",
              "      <td>MOLHADA</td>\n",
              "      <td>MULTIPLA</td>\n",
              "      <td>CAMINHAO</td>\n",
              "      <td>Rodovias</td>\n",
              "      <td>CHUVA</td>\n",
              "      <td>OESTE</td>\n",
              "      <td>Entre 80 e 89km/h</td>\n",
              "      <td>1</td>\n",
              "      <td>Até 30 dias</td>\n",
              "    </tr>\n",
              "    <tr>\n",
              "      <th>2</th>\n",
              "      <td>3074428</td>\n",
              "      <td>70014</td>\n",
              "      <td>2066</td>\n",
              "      <td>2021</td>\n",
              "      <td>2021-05-31</td>\n",
              "      <td>31</td>\n",
              "      <td>MAIO</td>\n",
              "      <td>2021</td>\n",
              "      <td>2021.05</td>\n",
              "      <td>SEGUNDA</td>\n",
              "      <td>NAO DISPONIVEL</td>\n",
              "      <td>NAO DISPONIVEL</td>\n",
              "      <td>CAMPINAS</td>\n",
              "      <td>Campinas</td>\n",
              "      <td>SP 065</td>\n",
              "      <td>129,4</td>\n",
              "      <td>ESTADUAL</td>\n",
              "      <td>CONCESSIONÁRIA-ARTESP</td>\n",
              "      <td>ROTA DAS BANDEIRAS</td>\n",
              "      <td>PUBLICO</td>\n",
              "      <td>-22,88374836538688</td>\n",
              "      <td>-47,01327507134027</td>\n",
              "      <td>LUZ SOLAR</td>\n",
              "      <td>SECA</td>\n",
              "      <td>MULTIPLA</td>\n",
              "      <td>NÃO HÁ</td>\n",
              "      <td>Rodovias</td>\n",
              "      <td>BOM</td>\n",
              "      <td>NORTE</td>\n",
              "      <td>Entre 80 e 89km/h</td>\n",
              "      <td>1</td>\n",
              "      <td>Até 30 dias</td>\n",
              "    </tr>\n",
              "    <tr>\n",
              "      <th>3</th>\n",
              "      <td>3074423</td>\n",
              "      <td>70931</td>\n",
              "      <td>2293</td>\n",
              "      <td>2021</td>\n",
              "      <td>2021-05-31</td>\n",
              "      <td>31</td>\n",
              "      <td>MAIO</td>\n",
              "      <td>2021</td>\n",
              "      <td>2021.05</td>\n",
              "      <td>SEGUNDA</td>\n",
              "      <td>18:56:00</td>\n",
              "      <td>NOITE</td>\n",
              "      <td>INDAIATUBA</td>\n",
              "      <td>Campinas</td>\n",
              "      <td>SP 075</td>\n",
              "      <td>57,0</td>\n",
              "      <td>ESTADUAL</td>\n",
              "      <td>CONCESSIONÁRIA-ARTESP</td>\n",
              "      <td>COLINAS</td>\n",
              "      <td>PUBLICO</td>\n",
              "      <td>-23,087738752168327</td>\n",
              "      <td>-47,18013578532558</td>\n",
              "      <td>NOITE (VIA NÃO ILUMINADA)</td>\n",
              "      <td>SECA</td>\n",
              "      <td>MULTIPLA</td>\n",
              "      <td>MOTOCICLETA</td>\n",
              "      <td>Rodovias</td>\n",
              "      <td>BOM</td>\n",
              "      <td>SUL</td>\n",
              "      <td>Entre 60 e 69km/h</td>\n",
              "      <td>1</td>\n",
              "      <td>Até 30 dias</td>\n",
              "    </tr>\n",
              "    <tr>\n",
              "      <th>4</th>\n",
              "      <td>3074386</td>\n",
              "      <td>30210</td>\n",
              "      <td>1238</td>\n",
              "      <td>2021</td>\n",
              "      <td>2021-05-30</td>\n",
              "      <td>30</td>\n",
              "      <td>MAIO</td>\n",
              "      <td>2021</td>\n",
              "      <td>2021.05</td>\n",
              "      <td>DOMINGO</td>\n",
              "      <td>NAO DISPONIVEL</td>\n",
              "      <td>NAO DISPONIVEL</td>\n",
              "      <td>MAIRIPORA</td>\n",
              "      <td>Metropolitana de São Paulo</td>\n",
              "      <td>BR 381</td>\n",
              "      <td>54,0</td>\n",
              "      <td>FEDERAL</td>\n",
              "      <td>CONCESSIONÁRIA-ANTT</td>\n",
              "      <td>AUTOPISTA FERNÃO DIAS</td>\n",
              "      <td>PUBLICO</td>\n",
              "      <td>-23,246766174964133</td>\n",
              "      <td>-46,59368315881336</td>\n",
              "      <td>NAO DISPONIVEL</td>\n",
              "      <td>NAO DISPONIVEL</td>\n",
              "      <td>NAO DISPONIVEL</td>\n",
              "      <td>CAMINHAO</td>\n",
              "      <td>Rodovias</td>\n",
              "      <td>NAO DISPONIVEL</td>\n",
              "      <td>NAO DISPONIVEL</td>\n",
              "      <td>NAO DISPONIVEL</td>\n",
              "      <td>2</td>\n",
              "      <td>Até 30 dias</td>\n",
              "    </tr>\n",
              "  </tbody>\n",
              "</table>\n",
              "</div>"
            ],
            "text/plain": [
              "        ID  ...  Tempo entre o Acidente e as Mortes\n",
              "0  3074422  ...                         Até 30 dias\n",
              "1  3074424  ...                         Até 30 dias\n",
              "2  3074428  ...                         Até 30 dias\n",
              "3  3074423  ...                         Até 30 dias\n",
              "4  3074386  ...                         Até 30 dias\n",
              "\n",
              "[5 rows x 32 columns]"
            ]
          },
          "metadata": {
            "tags": []
          },
          "execution_count": 4
        }
      ]
    },
    {
      "cell_type": "code",
      "metadata": {
        "colab": {
          "base_uri": "https://localhost:8080/",
          "height": 377
        },
        "id": "i5PdelAWqu_D",
        "outputId": "9e4c51a4-3879-4e8c-bac5-82df502dba4e"
      },
      "source": [
        "# Exibindo as últimas 5 linhas.\n",
        "df.tail()"
      ],
      "execution_count": null,
      "outputs": [
        {
          "output_type": "execute_result",
          "data": {
            "text/html": [
              "<div>\n",
              "<style scoped>\n",
              "    .dataframe tbody tr th:only-of-type {\n",
              "        vertical-align: middle;\n",
              "    }\n",
              "\n",
              "    .dataframe tbody tr th {\n",
              "        vertical-align: top;\n",
              "    }\n",
              "\n",
              "    .dataframe thead th {\n",
              "        text-align: right;\n",
              "    }\n",
              "</style>\n",
              "<table border=\"1\" class=\"dataframe\">\n",
              "  <thead>\n",
              "    <tr style=\"text-align: right;\">\n",
              "      <th></th>\n",
              "      <th>ID</th>\n",
              "      <th>Id Delegacia (RDO)</th>\n",
              "      <th>Número BO (RDO)</th>\n",
              "      <th>Ano BO (RDO)</th>\n",
              "      <th>Data do Acidente</th>\n",
              "      <th>Dia do Acidente</th>\n",
              "      <th>Mês do Acidente</th>\n",
              "      <th>Ano do Acidente</th>\n",
              "      <th>Ano/Mês do Acidente</th>\n",
              "      <th>Dia da semana</th>\n",
              "      <th>Hora do Acidente</th>\n",
              "      <th>Turno</th>\n",
              "      <th>Município</th>\n",
              "      <th>Região Administrativa</th>\n",
              "      <th>Logradouro</th>\n",
              "      <th>Numeral / KM</th>\n",
              "      <th>Jurisdição</th>\n",
              "      <th>Administração</th>\n",
              "      <th>Conservação</th>\n",
              "      <th>Tipo do Local do Acidente</th>\n",
              "      <th>Lat (GEO)</th>\n",
              "      <th>Long (GEO)</th>\n",
              "      <th>Iluminação da via (SIOPM)</th>\n",
              "      <th>Superfície da Via (SIOPM)</th>\n",
              "      <th>Tipo de pista (SIOPM)</th>\n",
              "      <th>Outro Veículo Envolvido</th>\n",
              "      <th>Tipo de via</th>\n",
              "      <th>Condições Climáticas (SIOPM)</th>\n",
              "      <th>Sentido da Via (SIOPM)</th>\n",
              "      <th>Limite da velocidade da via (SIOPM)</th>\n",
              "      <th>Quantidade de vítimas</th>\n",
              "      <th>Tempo entre o Acidente e as Mortes</th>\n",
              "    </tr>\n",
              "  </thead>\n",
              "  <tbody>\n",
              "    <tr>\n",
              "      <th>13986</th>\n",
              "      <td>3015050</td>\n",
              "      <td>30304</td>\n",
              "      <td>148</td>\n",
              "      <td>2015</td>\n",
              "      <td>2014-12-20</td>\n",
              "      <td>20</td>\n",
              "      <td>DEZEMBRO</td>\n",
              "      <td>2014</td>\n",
              "      <td>2014.12</td>\n",
              "      <td>SÁBADO</td>\n",
              "      <td>01:48:00</td>\n",
              "      <td>MADRUGADA</td>\n",
              "      <td>ITAQUAQUECETUBA</td>\n",
              "      <td>Metropolitana de São Paulo</td>\n",
              "      <td>SP 056</td>\n",
              "      <td>NAO DISPONIVEL</td>\n",
              "      <td>ESTADUAL</td>\n",
              "      <td>PREFEITURA</td>\n",
              "      <td>PREFEITURA</td>\n",
              "      <td>NAO DISPONIVEL</td>\n",
              "      <td>-23,4727772909</td>\n",
              "      <td>-46,344344417</td>\n",
              "      <td>NAO DISPONIVEL</td>\n",
              "      <td>NAO DISPONIVEL</td>\n",
              "      <td>NAO DISPONIVEL</td>\n",
              "      <td>NaN</td>\n",
              "      <td>Rodovias</td>\n",
              "      <td>NAO DISPONIVEL</td>\n",
              "      <td>NAO DISPONIVEL</td>\n",
              "      <td>NAO DISPONIVEL</td>\n",
              "      <td>1</td>\n",
              "      <td>Mais de 30 dias</td>\n",
              "    </tr>\n",
              "    <tr>\n",
              "      <th>13987</th>\n",
              "      <td>3024683</td>\n",
              "      <td>100121</td>\n",
              "      <td>3813</td>\n",
              "      <td>2014</td>\n",
              "      <td>2014-11-02</td>\n",
              "      <td>2</td>\n",
              "      <td>NOVEMBRO</td>\n",
              "      <td>2014</td>\n",
              "      <td>2014.11</td>\n",
              "      <td>DOMINGO</td>\n",
              "      <td>14:30:00</td>\n",
              "      <td>TARDE</td>\n",
              "      <td>IBITINGA</td>\n",
              "      <td>Central</td>\n",
              "      <td>SP 317</td>\n",
              "      <td>11,0</td>\n",
              "      <td>ESTADUAL</td>\n",
              "      <td>DER</td>\n",
              "      <td>DR04 - Araraquara</td>\n",
              "      <td>PUBLICO</td>\n",
              "      <td>-21,67262750000087</td>\n",
              "      <td>-48,838250000000244</td>\n",
              "      <td>NAO DISPONIVEL</td>\n",
              "      <td>NAO DISPONIVEL</td>\n",
              "      <td>NAO DISPONIVEL</td>\n",
              "      <td>AUTOMOVEL</td>\n",
              "      <td>Rodovias</td>\n",
              "      <td>NAO DISPONIVEL</td>\n",
              "      <td>NAO DISPONIVEL</td>\n",
              "      <td>NAO DISPONIVEL</td>\n",
              "      <td>1</td>\n",
              "      <td>Mais de 30 dias</td>\n",
              "    </tr>\n",
              "    <tr>\n",
              "      <th>13988</th>\n",
              "      <td>3022027</td>\n",
              "      <td>10356</td>\n",
              "      <td>7027</td>\n",
              "      <td>2014</td>\n",
              "      <td>2014-08-11</td>\n",
              "      <td>11</td>\n",
              "      <td>AGOSTO</td>\n",
              "      <td>2014</td>\n",
              "      <td>2014.08</td>\n",
              "      <td>SEGUNDA</td>\n",
              "      <td>07:30:00</td>\n",
              "      <td>MANHA</td>\n",
              "      <td>SAO PAULO</td>\n",
              "      <td>Metropolitana de São Paulo</td>\n",
              "      <td>SP 015</td>\n",
              "      <td>10,1</td>\n",
              "      <td>MUNICIPAL</td>\n",
              "      <td>PREFEITURA</td>\n",
              "      <td>PREFEITURA</td>\n",
              "      <td>PUBLICO</td>\n",
              "      <td>-23,60837447244091</td>\n",
              "      <td>-46,69746635642715</td>\n",
              "      <td>NAO DISPONIVEL</td>\n",
              "      <td>NAO DISPONIVEL</td>\n",
              "      <td>NAO DISPONIVEL</td>\n",
              "      <td>CAMINHAO</td>\n",
              "      <td>Rodovias</td>\n",
              "      <td>NAO DISPONIVEL</td>\n",
              "      <td>NAO DISPONIVEL</td>\n",
              "      <td>NAO DISPONIVEL</td>\n",
              "      <td>1</td>\n",
              "      <td>Mais de 30 dias</td>\n",
              "    </tr>\n",
              "    <tr>\n",
              "      <th>13989</th>\n",
              "      <td>3067808</td>\n",
              "      <td>10226</td>\n",
              "      <td>8186</td>\n",
              "      <td>2019</td>\n",
              "      <td>2013-12-24</td>\n",
              "      <td>24</td>\n",
              "      <td>DEZEMBRO</td>\n",
              "      <td>2013</td>\n",
              "      <td>2013.12</td>\n",
              "      <td>TERÇA</td>\n",
              "      <td>NAO DISPONIVEL</td>\n",
              "      <td>NAO DISPONIVEL</td>\n",
              "      <td>SAO PAULO</td>\n",
              "      <td>Metropolitana de São Paulo</td>\n",
              "      <td>SP 150</td>\n",
              "      <td>9,9</td>\n",
              "      <td>ESTADUAL</td>\n",
              "      <td>CONCESSIONÁRIA-ARTESP</td>\n",
              "      <td>ECOVIAS</td>\n",
              "      <td>PUBLICO</td>\n",
              "      <td>-23,616390980919462</td>\n",
              "      <td>-46,60160483523878</td>\n",
              "      <td>NAO DISPONIVEL</td>\n",
              "      <td>NAO DISPONIVEL</td>\n",
              "      <td>NAO DISPONIVEL</td>\n",
              "      <td>NAO DISPONIVEL</td>\n",
              "      <td>Rodovias</td>\n",
              "      <td>NAO DISPONIVEL</td>\n",
              "      <td>NAO DISPONIVEL</td>\n",
              "      <td>NAO DISPONIVEL</td>\n",
              "      <td>1</td>\n",
              "      <td>Mais de 30 dias</td>\n",
              "    </tr>\n",
              "    <tr>\n",
              "      <th>13990</th>\n",
              "      <td>3022013</td>\n",
              "      <td>70305</td>\n",
              "      <td>6481</td>\n",
              "      <td>2013</td>\n",
              "      <td>2013-09-21</td>\n",
              "      <td>21</td>\n",
              "      <td>SETEMBRO</td>\n",
              "      <td>2013</td>\n",
              "      <td>2013.09</td>\n",
              "      <td>SÁBADO</td>\n",
              "      <td>16:15:00</td>\n",
              "      <td>TARDE</td>\n",
              "      <td>CAMPINAS</td>\n",
              "      <td>Campinas</td>\n",
              "      <td>SP 075</td>\n",
              "      <td>72,0</td>\n",
              "      <td>ESTADUAL</td>\n",
              "      <td>CONCESSIONÁRIA-ARTESP</td>\n",
              "      <td>COLINAS</td>\n",
              "      <td>PUBLICO</td>\n",
              "      <td>-22,973927460620708</td>\n",
              "      <td>-47,102658247503804</td>\n",
              "      <td>NAO DISPONIVEL</td>\n",
              "      <td>NAO DISPONIVEL</td>\n",
              "      <td>NAO DISPONIVEL</td>\n",
              "      <td>AUTOMOVEL</td>\n",
              "      <td>Rodovias</td>\n",
              "      <td>NAO DISPONIVEL</td>\n",
              "      <td>NAO DISPONIVEL</td>\n",
              "      <td>NAO DISPONIVEL</td>\n",
              "      <td>1</td>\n",
              "      <td>Mais de 30 dias</td>\n",
              "    </tr>\n",
              "  </tbody>\n",
              "</table>\n",
              "</div>"
            ],
            "text/plain": [
              "            ID  ...  Tempo entre o Acidente e as Mortes\n",
              "13986  3015050  ...                     Mais de 30 dias\n",
              "13987  3024683  ...                     Mais de 30 dias\n",
              "13988  3022027  ...                     Mais de 30 dias\n",
              "13989  3067808  ...                     Mais de 30 dias\n",
              "13990  3022013  ...                     Mais de 30 dias\n",
              "\n",
              "[5 rows x 32 columns]"
            ]
          },
          "metadata": {
            "tags": []
          },
          "execution_count": 5
        }
      ]
    },
    {
      "cell_type": "code",
      "metadata": {
        "colab": {
          "base_uri": "https://localhost:8080/"
        },
        "id": "bYRotlRu2FS4",
        "outputId": "ac446fcb-f969-48b3-b76e-b6de140d4cf1"
      },
      "source": [
        "# Verificando o tipo dos dados.\n",
        "print(\"\\nTIPOS DAS VARIÁVEIS:\\n\")\n",
        "df.dtypes"
      ],
      "execution_count": null,
      "outputs": [
        {
          "output_type": "stream",
          "text": [
            "\n",
            "TIPOS DAS VARIÁVEIS:\n",
            "\n"
          ],
          "name": "stdout"
        },
        {
          "output_type": "execute_result",
          "data": {
            "text/plain": [
              "ID                                              int64\n",
              "Id Delegacia (RDO)                              int64\n",
              "Número BO (RDO)                                 int64\n",
              "Ano BO (RDO)                                    int64\n",
              "Data do Acidente                       datetime64[ns]\n",
              "Dia do Acidente                                 int64\n",
              "Mês do Acidente                                object\n",
              "Ano do Acidente                                 int64\n",
              "Ano/Mês do Acidente                           float64\n",
              "Dia da semana                                  object\n",
              "Hora do Acidente                               object\n",
              "Turno                                          object\n",
              "Município                                      object\n",
              "Região Administrativa                          object\n",
              "Logradouro                                     object\n",
              "Numeral / KM                                   object\n",
              "Jurisdição                                     object\n",
              "Administração                                  object\n",
              "Conservação                                    object\n",
              "Tipo do Local do Acidente                      object\n",
              "Lat (GEO)                                      object\n",
              "Long (GEO)                                     object\n",
              "Iluminação da via (SIOPM)                      object\n",
              "Superfície da Via (SIOPM)                      object\n",
              "Tipo de pista (SIOPM)                          object\n",
              "Outro Veículo Envolvido                        object\n",
              "Tipo de via                                    object\n",
              "Condições Climáticas (SIOPM)                   object\n",
              "Sentido da Via (SIOPM)                         object\n",
              "Limite da velocidade da via (SIOPM)            object\n",
              "Quantidade de vítimas                           int64\n",
              "Tempo entre o Acidente e as Mortes             object\n",
              "dtype: object"
            ]
          },
          "metadata": {
            "tags": []
          },
          "execution_count": 6
        }
      ]
    },
    {
      "cell_type": "code",
      "metadata": {
        "colab": {
          "base_uri": "https://localhost:8080/",
          "height": 278
        },
        "id": "92kjzeF22sZc",
        "outputId": "07dd2b51-763f-4ebc-ed9c-5642085afcf2"
      },
      "source": [
        "# Exibindo um resumo estatístico dos dados de nosso dataframe\n",
        "df.describe(include=['O'])"
      ],
      "execution_count": null,
      "outputs": [
        {
          "output_type": "execute_result",
          "data": {
            "text/html": [
              "<div>\n",
              "<style scoped>\n",
              "    .dataframe tbody tr th:only-of-type {\n",
              "        vertical-align: middle;\n",
              "    }\n",
              "\n",
              "    .dataframe tbody tr th {\n",
              "        vertical-align: top;\n",
              "    }\n",
              "\n",
              "    .dataframe thead th {\n",
              "        text-align: right;\n",
              "    }\n",
              "</style>\n",
              "<table border=\"1\" class=\"dataframe\">\n",
              "  <thead>\n",
              "    <tr style=\"text-align: right;\">\n",
              "      <th></th>\n",
              "      <th>Mês do Acidente</th>\n",
              "      <th>Dia da semana</th>\n",
              "      <th>Hora do Acidente</th>\n",
              "      <th>Turno</th>\n",
              "      <th>Município</th>\n",
              "      <th>Região Administrativa</th>\n",
              "      <th>Logradouro</th>\n",
              "      <th>Numeral / KM</th>\n",
              "      <th>Jurisdição</th>\n",
              "      <th>Administração</th>\n",
              "      <th>Conservação</th>\n",
              "      <th>Tipo do Local do Acidente</th>\n",
              "      <th>Lat (GEO)</th>\n",
              "      <th>Long (GEO)</th>\n",
              "      <th>Iluminação da via (SIOPM)</th>\n",
              "      <th>Superfície da Via (SIOPM)</th>\n",
              "      <th>Tipo de pista (SIOPM)</th>\n",
              "      <th>Outro Veículo Envolvido</th>\n",
              "      <th>Tipo de via</th>\n",
              "      <th>Condições Climáticas (SIOPM)</th>\n",
              "      <th>Sentido da Via (SIOPM)</th>\n",
              "      <th>Limite da velocidade da via (SIOPM)</th>\n",
              "      <th>Tempo entre o Acidente e as Mortes</th>\n",
              "    </tr>\n",
              "  </thead>\n",
              "  <tbody>\n",
              "    <tr>\n",
              "      <th>count</th>\n",
              "      <td>13991</td>\n",
              "      <td>13991</td>\n",
              "      <td>13991</td>\n",
              "      <td>13991</td>\n",
              "      <td>13991</td>\n",
              "      <td>13991</td>\n",
              "      <td>13991</td>\n",
              "      <td>13991</td>\n",
              "      <td>13991</td>\n",
              "      <td>13991</td>\n",
              "      <td>13991</td>\n",
              "      <td>13991</td>\n",
              "      <td>13991</td>\n",
              "      <td>13991</td>\n",
              "      <td>13991</td>\n",
              "      <td>13991</td>\n",
              "      <td>13991</td>\n",
              "      <td>9844</td>\n",
              "      <td>13991</td>\n",
              "      <td>13991</td>\n",
              "      <td>13991</td>\n",
              "      <td>13991</td>\n",
              "      <td>13991</td>\n",
              "    </tr>\n",
              "    <tr>\n",
              "      <th>unique</th>\n",
              "      <td>12</td>\n",
              "      <td>7</td>\n",
              "      <td>1259</td>\n",
              "      <td>5</td>\n",
              "      <td>587</td>\n",
              "      <td>16</td>\n",
              "      <td>516</td>\n",
              "      <td>4316</td>\n",
              "      <td>4</td>\n",
              "      <td>6</td>\n",
              "      <td>41</td>\n",
              "      <td>3</td>\n",
              "      <td>12289</td>\n",
              "      <td>12284</td>\n",
              "      <td>6</td>\n",
              "      <td>5</td>\n",
              "      <td>4</td>\n",
              "      <td>9</td>\n",
              "      <td>1</td>\n",
              "      <td>4</td>\n",
              "      <td>8</td>\n",
              "      <td>11</td>\n",
              "      <td>2</td>\n",
              "    </tr>\n",
              "    <tr>\n",
              "      <th>top</th>\n",
              "      <td>MAIO</td>\n",
              "      <td>SÁBADO</td>\n",
              "      <td>NAO DISPONIVEL</td>\n",
              "      <td>NOITE</td>\n",
              "      <td>SAO PAULO</td>\n",
              "      <td>Campinas</td>\n",
              "      <td>BR 116</td>\n",
              "      <td>NAO DISPONIVEL</td>\n",
              "      <td>ESTADUAL</td>\n",
              "      <td>CONCESSIONÁRIA-ARTESP</td>\n",
              "      <td>AUTOBAN</td>\n",
              "      <td>PUBLICO</td>\n",
              "      <td>NAO DISPONIVEL</td>\n",
              "      <td>NAO DISPONIVEL</td>\n",
              "      <td>NAO DISPONIVEL</td>\n",
              "      <td>NAO DISPONIVEL</td>\n",
              "      <td>NAO DISPONIVEL</td>\n",
              "      <td>AUTOMOVEL</td>\n",
              "      <td>Rodovias</td>\n",
              "      <td>NAO DISPONIVEL</td>\n",
              "      <td>NAO DISPONIVEL</td>\n",
              "      <td>NAO DISPONIVEL</td>\n",
              "      <td>Até 30 dias</td>\n",
              "    </tr>\n",
              "    <tr>\n",
              "      <th>freq</th>\n",
              "      <td>1391</td>\n",
              "      <td>2692</td>\n",
              "      <td>768</td>\n",
              "      <td>5408</td>\n",
              "      <td>638</td>\n",
              "      <td>2992</td>\n",
              "      <td>1223</td>\n",
              "      <td>1005</td>\n",
              "      <td>11827</td>\n",
              "      <td>6742</td>\n",
              "      <td>768</td>\n",
              "      <td>13723</td>\n",
              "      <td>295</td>\n",
              "      <td>295</td>\n",
              "      <td>10978</td>\n",
              "      <td>10978</td>\n",
              "      <td>10977</td>\n",
              "      <td>3789</td>\n",
              "      <td>13991</td>\n",
              "      <td>11011</td>\n",
              "      <td>10977</td>\n",
              "      <td>10977</td>\n",
              "      <td>13744</td>\n",
              "    </tr>\n",
              "  </tbody>\n",
              "</table>\n",
              "</div>"
            ],
            "text/plain": [
              "       Mês do Acidente  ... Tempo entre o Acidente e as Mortes\n",
              "count            13991  ...                              13991\n",
              "unique              12  ...                                  2\n",
              "top               MAIO  ...                        Até 30 dias\n",
              "freq              1391  ...                              13744\n",
              "\n",
              "[4 rows x 23 columns]"
            ]
          },
          "metadata": {
            "tags": []
          },
          "execution_count": 7
        }
      ]
    },
    {
      "cell_type": "code",
      "metadata": {
        "id": "PUUtnGSKNGIv",
        "colab": {
          "base_uri": "https://localhost:8080/"
        },
        "outputId": "807fc99e-b0aa-4ba9-efe1-f5f2d3e9d032"
      },
      "source": [
        "# Verificando se existem números nulos(linhas em branco em nossas colunas)\n",
        "df.isnull().sum()"
      ],
      "execution_count": null,
      "outputs": [
        {
          "output_type": "execute_result",
          "data": {
            "text/plain": [
              "ID                                        0\n",
              "Id Delegacia (RDO)                        0\n",
              "Número BO (RDO)                           0\n",
              "Ano BO (RDO)                              0\n",
              "Data do Acidente                          0\n",
              "Dia do Acidente                           0\n",
              "Mês do Acidente                           0\n",
              "Ano do Acidente                           0\n",
              "Ano/Mês do Acidente                       0\n",
              "Dia da semana                             0\n",
              "Hora do Acidente                          0\n",
              "Turno                                     0\n",
              "Município                                 0\n",
              "Região Administrativa                     0\n",
              "Logradouro                                0\n",
              "Numeral / KM                              0\n",
              "Jurisdição                                0\n",
              "Administração                             0\n",
              "Conservação                               0\n",
              "Tipo do Local do Acidente                 0\n",
              "Lat (GEO)                                 0\n",
              "Long (GEO)                                0\n",
              "Iluminação da via (SIOPM)                 0\n",
              "Superfície da Via (SIOPM)                 0\n",
              "Tipo de pista (SIOPM)                     0\n",
              "Outro Veículo Envolvido                4147\n",
              "Tipo de via                               0\n",
              "Condições Climáticas (SIOPM)              0\n",
              "Sentido da Via (SIOPM)                    0\n",
              "Limite da velocidade da via (SIOPM)       0\n",
              "Quantidade de vítimas                     0\n",
              "Tempo entre o Acidente e as Mortes        0\n",
              "dtype: int64"
            ]
          },
          "metadata": {
            "tags": []
          },
          "execution_count": 8
        }
      ]
    },
    {
      "cell_type": "markdown",
      "metadata": {
        "id": "yzfxxDBubg1C"
      },
      "source": [
        "### Tratando Dados\n",
        "Após finalizar essa etapa inicial de amostragem dos dados, adquirimos um conhecimento prévio do nosso DataFrame e então podemos realizar algumas alterações que julgamos necessárias, como por exemplo, a exclusão de colunas que não utilizaremos, a fim de facilitar a visualização dos dados.\n"
      ]
    },
    {
      "cell_type": "code",
      "metadata": {
        "id": "KRuBfMLUoVnd"
      },
      "source": [
        "# Copiando os dados do DataFrame para outra variavél, a fim de realizar as alterações nessa cópia\n",
        "dados_acidentes = df"
      ],
      "execution_count": null,
      "outputs": []
    },
    {
      "cell_type": "code",
      "metadata": {
        "id": "h59OHvhQksmv"
      },
      "source": [
        "# Excluindo as colunas que não são de nosso interesse.\n",
        "dados_acidentes = dados_acidentes.drop(['ID','Id Delegacia (RDO)', 'Número BO (RDO)', 'Logradouro', 'Numeral / KM', \n",
        "                                        'Ano BO (RDO)', 'Hora do Acidente', 'Tipo de via', 'Tipo de pista (SIOPM)', \n",
        "                                        'Ano/Mês do Acidente', 'Sentido da Via (SIOPM)', 'Lat (GEO)', 'Long (GEO)'],axis=1)"
      ],
      "execution_count": null,
      "outputs": []
    },
    {
      "cell_type": "code",
      "metadata": {
        "colab": {
          "base_uri": "https://localhost:8080/"
        },
        "id": "ljMD--P7o_Ru",
        "outputId": "6847085d-e1ba-4605-a165-1fbe2714df27"
      },
      "source": [
        "# Apresentando o tamanho do dataframe atualizado\n",
        "print(\"\\nDIMENSÕES DO DATAFRAME:\\n\")\n",
        "print(f\"Linhas  =  {dados_acidentes.shape[0]}\")\n",
        "print(f\"Colunas =  {dados_acidentes.shape[1]}\")"
      ],
      "execution_count": null,
      "outputs": [
        {
          "output_type": "stream",
          "text": [
            "\n",
            "DIMENSÕES DO DATAFRAME:\n",
            "\n",
            "Linhas  =  13991\n",
            "Colunas =  19\n"
          ],
          "name": "stdout"
        }
      ]
    },
    {
      "cell_type": "markdown",
      "metadata": {
        "id": "fDfY720JmdiM"
      },
      "source": [
        "### Visualização dos Dados\n",
        "Agora que já executamos todas as etapas acima, podemos partir para a visualização dos nossos dados de forma mais direta.\n",
        " \n",
        "Nessa etapa iremos visualizar por meio de gráficos as informações e então seremos capazes de encontrar alguns padrões nos acidentes. \n"
      ]
    },
    {
      "cell_type": "markdown",
      "metadata": {
        "id": "lO4yG6sXA_KN"
      },
      "source": [
        "#### Mês\n",
        "Começando nossos gráficos com o dado que mais me chamou a atenção, o mês de **Maio** foi o recordista em acidentes com vítimas fatais no Estado de São Paulo, de acordo com nossa base de dados.\n",
        " \n",
        "Com 1391 ocorrências, ele o segundo colocado **Março** por 146 acidentes fatais."
      ]
    },
    {
      "cell_type": "code",
      "metadata": {
        "colab": {
          "base_uri": "https://localhost:8080/",
          "height": 636
        },
        "id": "U7osVSV1BaqI",
        "outputId": "7cf07927-797c-4c8b-cc11-25c94a68a61b"
      },
      "source": [
        "# Mostrando o gráfico relativo aos meses dos acidentes\n",
        "dados_acidentes['Mês do Acidente'].value_counts().plot.bar(title=\"MÊS DOS ACIDENTES\", color=\"red\");\n",
        "\n",
        "# Mostrando o dados relativo aos meses dos acidentes\n",
        "print(f\"\\nMÊS DOS ACIDENTES:\\n\\n{dados_acidentes['Mês do Acidente'].value_counts(ascending=False)}\\n\\n\")"
      ],
      "execution_count": null,
      "outputs": [
        {
          "output_type": "stream",
          "text": [
            "\n",
            "MÊS DOS ACIDENTES:\n",
            "\n",
            "MAIO         1391\n",
            "MARÇO        1245\n",
            "JULHO        1235\n",
            "AGOSTO       1200\n",
            "ABRIL        1198\n",
            "DEZEMBRO     1178\n",
            "SETEMBRO     1151\n",
            "JANEIRO      1136\n",
            "OUTUBRO      1108\n",
            "JUNHO        1105\n",
            "FEVEREIRO    1063\n",
            "NOVEMBRO      981\n",
            "Name: Mês do Acidente, dtype: int64\n",
            "\n",
            "\n"
          ],
          "name": "stdout"
        },
        {
          "output_type": "display_data",
          "data": {
            "image/png": "[encoded data removed]",
            "text/plain": [
              "<Figure size 432x288 with 1 Axes>"
            ]
          },
          "metadata": {
            "tags": [],
            "needs_background": "light"
          }
        }
      ]
    },
    {
      "cell_type": "markdown",
      "metadata": {
        "id": "4J1lTUCiHjdJ"
      },
      "source": [
        "#### Turno\n",
        "A noite é o turno que detém o maior número de acidentes, conforme os dados abaixo, ele representa cerca de 38% dos acidentes e quando incluímos a madrugada sobe para cerca de 58%."
      ]
    },
    {
      "cell_type": "code",
      "metadata": {
        "colab": {
          "base_uri": "https://localhost:8080/",
          "height": 543
        },
        "id": "pHDfWzUxzS_A",
        "outputId": "ac55fe5d-bec1-44b6-b12a-c89d831732c3"
      },
      "source": [
        "# Mostrando o gráfico relativo aos turnos dos acidentes\n",
        "dados_acidentes['Turno'].value_counts().plot.bar(title=\"TURNOS DOS ACIDENTES\", color=\"red\");\n",
        "\n",
        "# Mostrando o dados relativo aos turnos dos acidentes\n",
        "print(f\"\\nTURNOS DOS ACIDENTES:\\n\\n{dados_acidentes['Turno'].value_counts(ascending=False)}\\n\\n\")"
      ],
      "execution_count": null,
      "outputs": [
        {
          "output_type": "stream",
          "text": [
            "\n",
            "TURNOS DOS ACIDENTES:\n",
            "\n",
            "NOITE             5408\n",
            "MADRUGADA         2845\n",
            "TARDE             2710\n",
            "MANHA             2260\n",
            "NAO DISPONIVEL     768\n",
            "Name: Turno, dtype: int64\n",
            "\n",
            "\n"
          ],
          "name": "stdout"
        },
        {
          "output_type": "display_data",
          "data": {
            "image/png": "[encoded data removed]",
            "text/plain": [
              "<Figure size 432x288 with 1 Axes>"
            ]
          },
          "metadata": {
            "tags": [],
            "needs_background": "light"
          }
        }
      ]
    },
    {
      "cell_type": "markdown",
      "metadata": {
        "id": "SvVbkC5nUBij"
      },
      "source": [
        "#### Dia da Semana\n",
        "Outro dado interessante de se analisar são os dias da semana, através do gráfico abaixo, podemos ver que os finais de semana(sábado e domingo) são onde se concentram o maior número de acidentes com vítimas fatais no Estado de São Paulo. E podemos incluir a sexta-feira nesta lista, assim temos cerca de 52% dos casos concentrados nestes dias."
      ]
    },
    {
      "cell_type": "code",
      "metadata": {
        "colab": {
          "base_uri": "https://localhost:8080/",
          "height": 542
        },
        "id": "iy-xj4KaUuMX",
        "outputId": "26640e16-830d-4a53-a156-519b7a339aaa"
      },
      "source": [
        "# Mostrando o gráfico relativo aos dias dos acidentes\n",
        "dados_acidentes['Dia da semana'].value_counts().plot.bar(title=\"DIA DA SEMANA QUE OS ACIDENTES ACONTECERAM\", color=\"red\");\n",
        "\n",
        "# Mostrando o dados relativo aos dias dos acidentes\n",
        "print(f\"\\nDIA DA SEMANA QUE OS ACIDENTES ACONTECERAM:\\n\\n{dados_acidentes['Dia da semana'].value_counts(ascending=False)}\\n\\n\")"
      ],
      "execution_count": null,
      "outputs": [
        {
          "output_type": "stream",
          "text": [
            "\n",
            "DIA DA SEMANA QUE OS ACIDENTES ACONTECERAM:\n",
            "\n",
            "SÁBADO     2692\n",
            "DOMINGO    2651\n",
            "SEXTA      2058\n",
            "QUINTA     1714\n",
            "SEGUNDA    1698\n",
            "QUARTA     1620\n",
            "TERÇA      1558\n",
            "Name: Dia da semana, dtype: int64\n",
            "\n",
            "\n"
          ],
          "name": "stdout"
        },
        {
          "output_type": "display_data",
          "data": {
            "image/png": "[encoded data removed]",
            "text/plain": [
              "<Figure size 432x288 with 1 Axes>"
            ]
          },
          "metadata": {
            "tags": [],
            "needs_background": "light"
          }
        }
      ]
    },
    {
      "cell_type": "markdown",
      "metadata": {
        "id": "WlhvFNDQ_jSs"
      },
      "source": [
        "#### Velocidade Da Via\n",
        "Mesmo com muitos **dados não disponíveis**, o que pode comprometer nossa análise, podemos verificar que a grande maioria dos dados informados ficam acima dos 80km/h, o que faz sentido, pelo fato de que, com essa velocidade as chances de uma fatalidade em um acidente são maiores."
      ]
    },
    {
      "cell_type": "code",
      "metadata": {
        "colab": {
          "base_uri": "https://localhost:8080/",
          "height": 570
        },
        "id": "zeDOENcgoe7r",
        "outputId": "8d23acfa-db7b-467c-c34d-548b7788d948"
      },
      "source": [
        "# Mostrando o gráfico relativo a velocidade da via dos acidentes\n",
        "dados_acidentes['Limite da velocidade da via (SIOPM)'].value_counts().plot.barh(title=\"VELOCIDADE DAS VIAS\")\n",
        "\n",
        "# Mostrando o dados relativo a velocidade da via dos acidentes\n",
        "print(f\"\\nVELOCIDADE DAS VIAS:\\n\\n{dados_acidentes['Limite da velocidade da via (SIOPM)'].value_counts(ascending=False)}\\n\\n\")"
      ],
      "execution_count": null,
      "outputs": [
        {
          "output_type": "stream",
          "text": [
            "\n",
            "VELOCIDADE DAS VIAS:\n",
            "\n",
            "NAO DISPONIVEL        10977\n",
            "Entre 90 e 100km/h      819\n",
            "Mais que 100km/h        650\n",
            "Entre 80 e 89km/h       620\n",
            "Entre 60 e 69km/h       556\n",
            "Entre 40 e 49km/h       222\n",
            "Entre 50 e 59km/h        47\n",
            "Menos de 10km/h          41\n",
            "Entre 70 e 79km/h        31\n",
            "Entre 30 e 39km/h        26\n",
            "Entre 20 e 29km/h         2\n",
            "Name: Limite da velocidade da via (SIOPM), dtype: int64\n",
            "\n",
            "\n"
          ],
          "name": "stdout"
        },
        {
          "output_type": "display_data",
          "data": {
            "image/png": "[encoded data removed]",
            "text/plain": [
              "<Figure size 432x288 with 1 Axes>"
            ]
          },
          "metadata": {
            "tags": [],
            "needs_background": "light"
          }
        }
      ]
    },
    {
      "cell_type": "markdown",
      "metadata": {
        "id": "IVJqlz0c2W8Q"
      },
      "source": [
        "### Conclusão\n",
        "Nesta análise exploratória realizamos apenas uma análise de forma superficial nos dados relacionados aos acidentes fatais no Estados de São Paulo, contudo, obtivemos uma boa noção sobre eles, como por exemplo, que o **turno** onde mais acontece acidentes com vítimas é a **noite**, que representam cerca de 38% dos números.\n",
        " \n",
        "Outro ponto a se destacar, mesmo com muitos dados faltando e que podem distorcer nossa análise, é que a maioria dos acidentes fatais com a **velocidade da via** disponível, acontecem em rodovias com velocidade acima dos 80km/h.\n",
        " \n",
        "Por fim, temos uma boa visão inicial sobre os dados, mas existe muito espaço para se aprofundar e revelar detalhes que possivelmente passem despercebidos.\n"
      ]
    }
  ]
}